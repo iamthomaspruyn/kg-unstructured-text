{
 "cells": [
  {
   "cell_type": "code",
   "execution_count": 1,
   "metadata": {},
   "outputs": [],
   "source": [
    "import numpy as np\n",
    "import pandas as pd"
   ]
  },
  {
   "cell_type": "code",
   "execution_count": 3,
   "metadata": {},
   "outputs": [
    {
     "name": "stderr",
     "output_type": "stream",
     "text": [
      "C:\\Users\\sarta\\AppData\\Local\\Temp\\ipykernel_11048\\72589527.py:2: DtypeWarning: Columns (40,41,43,44,45,46,47,49,50,51,52,53,55,56,57,65,66,67,68,69,77,78,79,80,81,89,90,91,92,93) have mixed types. Specify dtype option on import or set low_memory=False.\n",
      "  qmof_df = pd.read_csv('QMOF Data/qmof.csv')\n"
     ]
    }
   ],
   "source": [
    "core_df = pd.read_csv('CoRE-MOF Data/CoRE2019_alldata.csv')\n",
    "qmof_df = pd.read_csv('QMOF Data/qmof.csv')"
   ]
  },
  {
   "cell_type": "code",
   "execution_count": 10,
   "metadata": {},
   "outputs": [],
   "source": [
    "CSD_to_QMOF = {}\n",
    "\n",
    "for i in qmof_df['name']:\n",
    "    csd_refCode = i.split('_')[0]\n",
    "    CSD_to_QMOF[csd_refCode] = i\n",
    "\n",
    "CSD_to_CORE = {}\n",
    "\n",
    "for i in core_df['MOFname']:\n",
    "    csd_refCode = i.split('_')[0]\n",
    "    CSD_to_CORE[csd_refCode] = i"
   ]
  },
  {
   "cell_type": "code",
   "execution_count": 11,
   "metadata": {},
   "outputs": [
    {
     "data": {
      "text/plain": [
       "(9326, 16049)"
      ]
     },
     "execution_count": 11,
     "metadata": {},
     "output_type": "execute_result"
    }
   ],
   "source": [
    "len(CSD_to_CORE), len(CSD_to_QMOF)"
   ]
  },
  {
   "cell_type": "code",
   "execution_count": 15,
   "metadata": {},
   "outputs": [],
   "source": [
    "CoRE_QMOF_int = list(set(CSD_to_CORE.keys()).intersection(CSD_to_QMOF.keys())) #intersection between CoRE-MOF and QMOF databases"
   ]
  },
  {
   "cell_type": "code",
   "execution_count": 16,
   "metadata": {},
   "outputs": [
    {
     "data": {
      "text/plain": [
       "1164"
      ]
     },
     "execution_count": 16,
     "metadata": {},
     "output_type": "execute_result"
    }
   ],
   "source": [
    "len(CoRE_QMOF_int)"
   ]
  },
  {
   "cell_type": "code",
   "execution_count": 32,
   "metadata": {},
   "outputs": [],
   "source": [
    "core_properties = ['Di', 'total_SA_volumetric', 'pure_uptake_CO2_298.00_15000', 'pure_uptake_CO2_298.00_1600000', 'pure_uptake_methane_298.00_6500000', 'logKH_CO2']\n",
    "qmof_properties = ['outputs.pbe.bandgap']"
   ]
  },
  {
   "cell_type": "code",
   "execution_count": 35,
   "metadata": {},
   "outputs": [],
   "source": [
    "property_dict = {'CSD code' : [],\n",
    "                 'Largest included sphere diameter (A)' : [],\n",
    "                 'Total volumetric surface area (m^2/m^3)' : [],\n",
    "                 'CO2 uptake at LP (mol/kg)' : [],\n",
    "                 'CO2 uptake at HP (mol/kg)' : [],\n",
    "                 'CH4 uptake at HP (mol/kg)' : [],\n",
    "                 'logKH_CO2' : [],\n",
    "                 'Band gap (eV)' : []\n",
    "                 }\n",
    "\n",
    "for code in CoRE_QMOF_int:\n",
    "    core_id= CSD_to_CORE[code]\n",
    "    qmof_id = CSD_to_QMOF[code]\n",
    "\n",
    "    #properties\n",
    "    Di = core_df[core_df['MOFname'] == core_id]['Di'].values[0]\n",
    "    SA = core_df[core_df['MOFname'] == core_id]['total_SA_volumetric'].values[0]\n",
    "    uptake_co2_LP = core_df[core_df['MOFname'] == core_id]['pure_uptake_CO2_298.00_15000'].values[0]\n",
    "    uptake_co2_HP = core_df[core_df['MOFname'] == core_id]['pure_uptake_CO2_298.00_1600000'].values[0]\n",
    "    uptake_ch4_HP = core_df[core_df['MOFname'] == core_id]['pure_uptake_methane_298.00_6500000'].values[0]\n",
    "    logKH_CO2 = core_df[core_df['MOFname'] == core_id]['logKH_CO2'].values[0]\n",
    "    bandGap = qmof_df[qmof_df['name'] == qmof_id]['outputs.pbe.bandgap'].values[0]\n",
    "\n",
    "    #append to dict\n",
    "    property_dict['CSD code'].append(code)\n",
    "    property_dict['Largest included sphere diameter (A)'].append(Di)\n",
    "    property_dict['Total volumetric surface area (m^2/m^3)'].append(SA)\n",
    "    property_dict['CO2 uptake at LP (mol/kg)'].append(uptake_co2_LP)\n",
    "    property_dict['CO2 uptake at HP (mol/kg)'].append(uptake_co2_HP)\n",
    "    property_dict['CH4 uptake at HP (mol/kg)'].append(uptake_ch4_HP)\n",
    "    property_dict['logKH_CO2'].append(logKH_CO2)\n",
    "    property_dict['Band gap (eV)'].append(bandGap)"
   ]
  },
  {
   "cell_type": "code",
   "execution_count": 38,
   "metadata": {},
   "outputs": [
    {
     "data": {
      "text/html": [
       "<div>\n",
       "<style scoped>\n",
       "    .dataframe tbody tr th:only-of-type {\n",
       "        vertical-align: middle;\n",
       "    }\n",
       "\n",
       "    .dataframe tbody tr th {\n",
       "        vertical-align: top;\n",
       "    }\n",
       "\n",
       "    .dataframe thead th {\n",
       "        text-align: right;\n",
       "    }\n",
       "</style>\n",
       "<table border=\"1\" class=\"dataframe\">\n",
       "  <thead>\n",
       "    <tr style=\"text-align: right;\">\n",
       "      <th></th>\n",
       "      <th>CSD code</th>\n",
       "      <th>Largest included sphere diameter (A)</th>\n",
       "      <th>Total volumetric surface area (m^2/m^3)</th>\n",
       "      <th>CO2 uptake at LP (mol/kg)</th>\n",
       "      <th>CO2 uptake at HP (mol/kg)</th>\n",
       "      <th>CH4 uptake at HP (mol/kg)</th>\n",
       "      <th>logKH_CO2</th>\n",
       "      <th>Band gap (eV)</th>\n",
       "    </tr>\n",
       "  </thead>\n",
       "  <tbody>\n",
       "    <tr>\n",
       "      <th>0</th>\n",
       "      <td>XUKLAS</td>\n",
       "      <td>5.87516</td>\n",
       "      <td>531.2680</td>\n",
       "      <td>3.067273</td>\n",
       "      <td>4.846813</td>\n",
       "      <td>3.669838</td>\n",
       "      <td>-2.819364</td>\n",
       "      <td>2.119654</td>\n",
       "    </tr>\n",
       "    <tr>\n",
       "      <th>1</th>\n",
       "      <td>FURSES</td>\n",
       "      <td>5.13622</td>\n",
       "      <td>857.5060</td>\n",
       "      <td>1.973677</td>\n",
       "      <td>5.112288</td>\n",
       "      <td>2.985884</td>\n",
       "      <td>-3.594375</td>\n",
       "      <td>0.128388</td>\n",
       "    </tr>\n",
       "    <tr>\n",
       "      <th>2</th>\n",
       "      <td>DIBWUI</td>\n",
       "      <td>4.22892</td>\n",
       "      <td>75.2764</td>\n",
       "      <td>1.737634</td>\n",
       "      <td>3.284539</td>\n",
       "      <td>1.658284</td>\n",
       "      <td>-1.753157</td>\n",
       "      <td>0.909403</td>\n",
       "    </tr>\n",
       "    <tr>\n",
       "      <th>3</th>\n",
       "      <td>QITYOI</td>\n",
       "      <td>5.05446</td>\n",
       "      <td>920.9020</td>\n",
       "      <td>3.342659</td>\n",
       "      <td>5.822757</td>\n",
       "      <td>3.856230</td>\n",
       "      <td>-2.389014</td>\n",
       "      <td>3.913942</td>\n",
       "    </tr>\n",
       "    <tr>\n",
       "      <th>4</th>\n",
       "      <td>IBASUB</td>\n",
       "      <td>7.25865</td>\n",
       "      <td>730.2880</td>\n",
       "      <td>0.341695</td>\n",
       "      <td>2.816051</td>\n",
       "      <td>2.965568</td>\n",
       "      <td>-4.580249</td>\n",
       "      <td>0.935073</td>\n",
       "    </tr>\n",
       "    <tr>\n",
       "      <th>...</th>\n",
       "      <td>...</td>\n",
       "      <td>...</td>\n",
       "      <td>...</td>\n",
       "      <td>...</td>\n",
       "      <td>...</td>\n",
       "      <td>...</td>\n",
       "      <td>...</td>\n",
       "      <td>...</td>\n",
       "    </tr>\n",
       "    <tr>\n",
       "      <th>1159</th>\n",
       "      <td>CELZEA</td>\n",
       "      <td>5.32550</td>\n",
       "      <td>925.8600</td>\n",
       "      <td>4.587090</td>\n",
       "      <td>6.189088</td>\n",
       "      <td>4.041570</td>\n",
       "      <td>-2.839628</td>\n",
       "      <td>1.961341</td>\n",
       "    </tr>\n",
       "    <tr>\n",
       "      <th>1160</th>\n",
       "      <td>RIXBIK</td>\n",
       "      <td>6.35159</td>\n",
       "      <td>842.4940</td>\n",
       "      <td>1.143350</td>\n",
       "      <td>5.380545</td>\n",
       "      <td>4.575815</td>\n",
       "      <td>-4.011610</td>\n",
       "      <td>0.546257</td>\n",
       "    </tr>\n",
       "    <tr>\n",
       "      <th>1161</th>\n",
       "      <td>NOCLOH01</td>\n",
       "      <td>5.48382</td>\n",
       "      <td>924.1580</td>\n",
       "      <td>4.353029</td>\n",
       "      <td>6.987259</td>\n",
       "      <td>4.237704</td>\n",
       "      <td>-2.040320</td>\n",
       "      <td>3.286723</td>\n",
       "    </tr>\n",
       "    <tr>\n",
       "      <th>1162</th>\n",
       "      <td>QOZPOM</td>\n",
       "      <td>4.94177</td>\n",
       "      <td>803.1020</td>\n",
       "      <td>1.042638</td>\n",
       "      <td>6.711109</td>\n",
       "      <td>6.133036</td>\n",
       "      <td>-4.108541</td>\n",
       "      <td>2.840514</td>\n",
       "    </tr>\n",
       "    <tr>\n",
       "      <th>1163</th>\n",
       "      <td>CIKCOQ</td>\n",
       "      <td>4.68478</td>\n",
       "      <td>310.4220</td>\n",
       "      <td>3.098273</td>\n",
       "      <td>4.369102</td>\n",
       "      <td>2.819818</td>\n",
       "      <td>-0.063813</td>\n",
       "      <td>2.941736</td>\n",
       "    </tr>\n",
       "  </tbody>\n",
       "</table>\n",
       "<p>1164 rows × 8 columns</p>\n",
       "</div>"
      ],
      "text/plain": [
       "      CSD code  Largest included sphere diameter (A)  \\\n",
       "0       XUKLAS                               5.87516   \n",
       "1       FURSES                               5.13622   \n",
       "2       DIBWUI                               4.22892   \n",
       "3       QITYOI                               5.05446   \n",
       "4       IBASUB                               7.25865   \n",
       "...        ...                                   ...   \n",
       "1159    CELZEA                               5.32550   \n",
       "1160    RIXBIK                               6.35159   \n",
       "1161  NOCLOH01                               5.48382   \n",
       "1162    QOZPOM                               4.94177   \n",
       "1163    CIKCOQ                               4.68478   \n",
       "\n",
       "      Total volumetric surface area (m^2/m^3)  CO2 uptake at LP (mol/kg)  \\\n",
       "0                                    531.2680                   3.067273   \n",
       "1                                    857.5060                   1.973677   \n",
       "2                                     75.2764                   1.737634   \n",
       "3                                    920.9020                   3.342659   \n",
       "4                                    730.2880                   0.341695   \n",
       "...                                       ...                        ...   \n",
       "1159                                 925.8600                   4.587090   \n",
       "1160                                 842.4940                   1.143350   \n",
       "1161                                 924.1580                   4.353029   \n",
       "1162                                 803.1020                   1.042638   \n",
       "1163                                 310.4220                   3.098273   \n",
       "\n",
       "      CO2 uptake at HP (mol/kg)  CH4 uptake at HP (mol/kg)  logKH_CO2  \\\n",
       "0                      4.846813                   3.669838  -2.819364   \n",
       "1                      5.112288                   2.985884  -3.594375   \n",
       "2                      3.284539                   1.658284  -1.753157   \n",
       "3                      5.822757                   3.856230  -2.389014   \n",
       "4                      2.816051                   2.965568  -4.580249   \n",
       "...                         ...                        ...        ...   \n",
       "1159                   6.189088                   4.041570  -2.839628   \n",
       "1160                   5.380545                   4.575815  -4.011610   \n",
       "1161                   6.987259                   4.237704  -2.040320   \n",
       "1162                   6.711109                   6.133036  -4.108541   \n",
       "1163                   4.369102                   2.819818  -0.063813   \n",
       "\n",
       "      Band gap (eV)  \n",
       "0          2.119654  \n",
       "1          0.128388  \n",
       "2          0.909403  \n",
       "3          3.913942  \n",
       "4          0.935073  \n",
       "...             ...  \n",
       "1159       1.961341  \n",
       "1160       0.546257  \n",
       "1161       3.286723  \n",
       "1162       2.840514  \n",
       "1163       2.941736  \n",
       "\n",
       "[1164 rows x 8 columns]"
      ]
     },
     "execution_count": 38,
     "metadata": {},
     "output_type": "execute_result"
    }
   ],
   "source": [
    "propertyDF = pd.DataFrame(property_dict)\n",
    "propertyDF"
   ]
  },
  {
   "cell_type": "code",
   "execution_count": 39,
   "metadata": {},
   "outputs": [],
   "source": [
    "propertyDF.to_csv('intersection_properties.csv', index = False)"
   ]
  },
  {
   "cell_type": "code",
   "execution_count": null,
   "metadata": {},
   "outputs": [],
   "source": []
  }
 ],
 "metadata": {
  "kernelspec": {
   "display_name": "base",
   "language": "python",
   "name": "python3"
  },
  "language_info": {
   "codemirror_mode": {
    "name": "ipython",
    "version": 3
   },
   "file_extension": ".py",
   "mimetype": "text/x-python",
   "name": "python",
   "nbconvert_exporter": "python",
   "pygments_lexer": "ipython3",
   "version": "3.10.12"
  }
 },
 "nbformat": 4,
 "nbformat_minor": 2
}
