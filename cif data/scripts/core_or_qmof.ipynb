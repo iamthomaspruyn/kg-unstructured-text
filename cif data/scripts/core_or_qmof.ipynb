{
 "cells": [
  {
   "cell_type": "code",
   "execution_count": 18,
   "metadata": {},
   "outputs": [],
   "source": [
    "import numpy as np\n",
    "import pandas as pd\n",
    "import pickle"
   ]
  },
  {
   "cell_type": "code",
   "execution_count": 2,
   "metadata": {},
   "outputs": [
    {
     "name": "stderr",
     "output_type": "stream",
     "text": [
      "C:\\Users\\sarta\\AppData\\Local\\Temp\\ipykernel_8104\\72589527.py:2: DtypeWarning: Columns (40,41,43,44,45,46,47,49,50,51,52,53,55,56,57,65,66,67,68,69,77,78,79,80,81,89,90,91,92,93) have mixed types. Specify dtype option on import or set low_memory=False.\n",
      "  qmof_df = pd.read_csv('QMOF Data/qmof.csv')\n"
     ]
    }
   ],
   "source": [
    "core_df = pd.read_csv('CoRE-MOF Data/CoRE2019_alldata.csv')\n",
    "qmof_df = pd.read_csv('QMOF Data/qmof.csv')"
   ]
  },
  {
   "cell_type": "code",
   "execution_count": 3,
   "metadata": {},
   "outputs": [],
   "source": [
    "CSD_to_QMOF = {}\n",
    "\n",
    "for i in qmof_df['name']:\n",
    "    csd_refCode = i.split('_')[0]\n",
    "    CSD_to_QMOF[csd_refCode] = i\n",
    "\n",
    "CSD_to_CORE = {}\n",
    "\n",
    "for i in core_df['MOFname']:\n",
    "    csd_refCode = i.split('_')[0]\n",
    "    CSD_to_CORE[csd_refCode] = i"
   ]
  },
  {
   "cell_type": "code",
   "execution_count": 4,
   "metadata": {},
   "outputs": [
    {
     "data": {
      "text/plain": [
       "(9326, 16049)"
      ]
     },
     "execution_count": 4,
     "metadata": {},
     "output_type": "execute_result"
    }
   ],
   "source": [
    "len(CSD_to_CORE), len(CSD_to_QMOF)"
   ]
  },
  {
   "cell_type": "code",
   "execution_count": 19,
   "metadata": {},
   "outputs": [],
   "source": [
    "with open('CSD code map/CSD_to_CORE.pickle', 'wb') as handle:\n",
    "    pickle.dump(CSD_to_CORE, handle, protocol=pickle.HIGHEST_PROTOCOL)\n",
    "\n",
    "with open('CSD code map/CSD_to_QMOF.pickle', 'wb') as handle:\n",
    "    pickle.dump(CSD_to_QMOF, handle, protocol=pickle.HIGHEST_PROTOCOL)"
   ]
  },
  {
   "cell_type": "code",
   "execution_count": 20,
   "metadata": {},
   "outputs": [
    {
     "data": {
      "text/plain": [
       "(1164, 8162, 14885)"
      ]
     },
     "execution_count": 20,
     "metadata": {},
     "output_type": "execute_result"
    }
   ],
   "source": [
    "#3 sets: intersection, CoRE-MOF only, QMOF only\n",
    "CoRE_QMOF_int = list(set(CSD_to_CORE.keys()).intersection(set(CSD_to_QMOF.keys())))\n",
    "CoRE_only = list(set(CSD_to_CORE.keys()).difference(set(CSD_to_QMOF.keys())))\n",
    "QMOF_only = list(set(CSD_to_QMOF.keys()).difference(set(CSD_to_CORE.keys())))\n",
    "\n",
    "len(CoRE_QMOF_int), len(CoRE_only), len(QMOF_only)"
   ]
  },
  {
   "cell_type": "code",
   "execution_count": 21,
   "metadata": {},
   "outputs": [],
   "source": [
    "with open('CSD code map/sets/CoRE_QMOF_intersection.pickle', 'wb') as handle:\n",
    "    pickle.dump(CoRE_QMOF_int, handle, protocol=pickle.HIGHEST_PROTOCOL)\n",
    "\n",
    "with open('CSD code map/sets/CoRE_only.pickle', 'wb') as handle:\n",
    "    pickle.dump(CoRE_only, handle, protocol=pickle.HIGHEST_PROTOCOL)\n",
    "\n",
    "with open('CSD code map/sets/QMOF_only.pickle', 'wb') as handle:\n",
    "    pickle.dump(QMOF_only, handle, protocol=pickle.HIGHEST_PROTOCOL)"
   ]
  },
  {
   "cell_type": "code",
   "execution_count": 6,
   "metadata": {},
   "outputs": [],
   "source": [
    "core_properties = ['Di', 'total_SA_volumetric', 'pure_uptake_CO2_298.00_15000', 'pure_uptake_CO2_298.00_1600000', 'pure_uptake_methane_298.00_6500000', 'logKH_CO2']\n",
    "qmof_properties = ['outputs.pbe.bandgap']"
   ]
  },
  {
   "cell_type": "code",
   "execution_count": 7,
   "metadata": {},
   "outputs": [],
   "source": [
    "property_dict = {'CSD code' : [],\n",
    "                 'Largest included sphere diameter (A)' : [],\n",
    "                 'Total volumetric surface area (m^2/m^3)' : [],\n",
    "                 'CO2 uptake at LP (mol/kg)' : [],\n",
    "                 'CO2 uptake at HP (mol/kg)' : [],\n",
    "                 'CH4 uptake at HP (mol/kg)' : [],\n",
    "                 'logKH_CO2' : [],\n",
    "                 'Band gap (eV)' : []\n",
    "                 }"
   ]
  },
  {
   "cell_type": "code",
   "execution_count": 8,
   "metadata": {},
   "outputs": [],
   "source": [
    "#case 1: in both CoRE and QMOF\n",
    "for code in CoRE_QMOF_int:\n",
    "    core_id= CSD_to_CORE[code]\n",
    "    qmof_id = CSD_to_QMOF[code]\n",
    "\n",
    "    #properties\n",
    "    Di = core_df[core_df['MOFname'] == core_id]['Di'].values[0]\n",
    "    SA = core_df[core_df['MOFname'] == core_id]['total_SA_volumetric'].values[0]\n",
    "    uptake_co2_LP = core_df[core_df['MOFname'] == core_id]['pure_uptake_CO2_298.00_15000'].values[0]\n",
    "    uptake_co2_HP = core_df[core_df['MOFname'] == core_id]['pure_uptake_CO2_298.00_1600000'].values[0]\n",
    "    uptake_ch4_HP = core_df[core_df['MOFname'] == core_id]['pure_uptake_methane_298.00_6500000'].values[0]\n",
    "    logKH_CO2 = core_df[core_df['MOFname'] == core_id]['logKH_CO2'].values[0]\n",
    "    bandGap = qmof_df[qmof_df['name'] == qmof_id]['outputs.pbe.bandgap'].values[0]\n",
    "\n",
    "    #append to dict\n",
    "    property_dict['CSD code'].append(code)\n",
    "    property_dict['Largest included sphere diameter (A)'].append(Di)\n",
    "    property_dict['Total volumetric surface area (m^2/m^3)'].append(SA)\n",
    "    property_dict['CO2 uptake at LP (mol/kg)'].append(uptake_co2_LP)\n",
    "    property_dict['CO2 uptake at HP (mol/kg)'].append(uptake_co2_HP)\n",
    "    property_dict['CH4 uptake at HP (mol/kg)'].append(uptake_ch4_HP)\n",
    "    property_dict['logKH_CO2'].append(logKH_CO2)\n",
    "    property_dict['Band gap (eV)'].append(bandGap)"
   ]
  },
  {
   "cell_type": "code",
   "execution_count": 9,
   "metadata": {},
   "outputs": [],
   "source": [
    "#case 2: in CoRE-MOF only\n",
    "for code in CoRE_only:\n",
    "    core_id= CSD_to_CORE[code]\n",
    "\n",
    "    #properties\n",
    "    Di = core_df[core_df['MOFname'] == core_id]['Di'].values[0]\n",
    "    SA = core_df[core_df['MOFname'] == core_id]['total_SA_volumetric'].values[0]\n",
    "    uptake_co2_LP = core_df[core_df['MOFname'] == core_id]['pure_uptake_CO2_298.00_15000'].values[0]\n",
    "    uptake_co2_HP = core_df[core_df['MOFname'] == core_id]['pure_uptake_CO2_298.00_1600000'].values[0]\n",
    "    uptake_ch4_HP = core_df[core_df['MOFname'] == core_id]['pure_uptake_methane_298.00_6500000'].values[0]\n",
    "    logKH_CO2 = core_df[core_df['MOFname'] == core_id]['logKH_CO2'].values[0]\n",
    "    bandGap = np.nan #no band gap label in CoRE-MOF\n",
    "\n",
    "    #append to dict\n",
    "    property_dict['CSD code'].append(code)\n",
    "    property_dict['Largest included sphere diameter (A)'].append(Di)\n",
    "    property_dict['Total volumetric surface area (m^2/m^3)'].append(SA)\n",
    "    property_dict['CO2 uptake at LP (mol/kg)'].append(uptake_co2_LP)\n",
    "    property_dict['CO2 uptake at HP (mol/kg)'].append(uptake_co2_HP)\n",
    "    property_dict['CH4 uptake at HP (mol/kg)'].append(uptake_ch4_HP)\n",
    "    property_dict['logKH_CO2'].append(logKH_CO2)\n",
    "    property_dict['Band gap (eV)'].append(bandGap)"
   ]
  },
  {
   "cell_type": "code",
   "execution_count": 13,
   "metadata": {},
   "outputs": [],
   "source": [
    "#case 3: in QMOF only\n",
    "for code in QMOF_only:\n",
    "    qmof_id= CSD_to_QMOF[code]\n",
    "\n",
    "    #properties\n",
    "    Di = qmof_df[qmof_df['name'] == qmof_id]['info.lcd'].values[0]\n",
    "    SA = np.nan\n",
    "    uptake_co2_LP = np.nan\n",
    "    uptake_co2_HP = np.nan\n",
    "    uptake_ch4_HP = np.nan\n",
    "    logKH_CO2 = np.nan\n",
    "    bandGap = qmof_df[qmof_df['name'] == qmof_id]['outputs.pbe.bandgap'].values[0]\n",
    "\n",
    "    #append to dict\n",
    "    property_dict['CSD code'].append(code)\n",
    "    property_dict['Largest included sphere diameter (A)'].append(Di)\n",
    "    property_dict['Total volumetric surface area (m^2/m^3)'].append(SA)\n",
    "    property_dict['CO2 uptake at LP (mol/kg)'].append(uptake_co2_LP)\n",
    "    property_dict['CO2 uptake at HP (mol/kg)'].append(uptake_co2_HP)\n",
    "    property_dict['CH4 uptake at HP (mol/kg)'].append(uptake_ch4_HP)\n",
    "    property_dict['logKH_CO2'].append(logKH_CO2)\n",
    "    property_dict['Band gap (eV)'].append(bandGap)"
   ]
  },
  {
   "cell_type": "code",
   "execution_count": 14,
   "metadata": {},
   "outputs": [
    {
     "data": {
      "text/html": [
       "<div>\n",
       "<style scoped>\n",
       "    .dataframe tbody tr th:only-of-type {\n",
       "        vertical-align: middle;\n",
       "    }\n",
       "\n",
       "    .dataframe tbody tr th {\n",
       "        vertical-align: top;\n",
       "    }\n",
       "\n",
       "    .dataframe thead th {\n",
       "        text-align: right;\n",
       "    }\n",
       "</style>\n",
       "<table border=\"1\" class=\"dataframe\">\n",
       "  <thead>\n",
       "    <tr style=\"text-align: right;\">\n",
       "      <th></th>\n",
       "      <th>CSD code</th>\n",
       "      <th>Largest included sphere diameter (A)</th>\n",
       "      <th>Total volumetric surface area (m^2/m^3)</th>\n",
       "      <th>CO2 uptake at LP (mol/kg)</th>\n",
       "      <th>CO2 uptake at HP (mol/kg)</th>\n",
       "      <th>CH4 uptake at HP (mol/kg)</th>\n",
       "      <th>logKH_CO2</th>\n",
       "      <th>Band gap (eV)</th>\n",
       "    </tr>\n",
       "  </thead>\n",
       "  <tbody>\n",
       "    <tr>\n",
       "      <th>0</th>\n",
       "      <td>QONLAI</td>\n",
       "      <td>6.10211</td>\n",
       "      <td>1909.4500</td>\n",
       "      <td>0.624173</td>\n",
       "      <td>10.315793</td>\n",
       "      <td>8.403936</td>\n",
       "      <td>-4.376034</td>\n",
       "      <td>0.485636</td>\n",
       "    </tr>\n",
       "    <tr>\n",
       "      <th>1</th>\n",
       "      <td>BUKYAJ</td>\n",
       "      <td>5.10209</td>\n",
       "      <td>752.8280</td>\n",
       "      <td>2.442599</td>\n",
       "      <td>6.769549</td>\n",
       "      <td>6.642334</td>\n",
       "      <td>-3.589223</td>\n",
       "      <td>3.866396</td>\n",
       "    </tr>\n",
       "    <tr>\n",
       "      <th>2</th>\n",
       "      <td>QAGDIO</td>\n",
       "      <td>12.81046</td>\n",
       "      <td>1833.5900</td>\n",
       "      <td>0.440013</td>\n",
       "      <td>16.889565</td>\n",
       "      <td>13.095273</td>\n",
       "      <td>-4.533132</td>\n",
       "      <td>0.340761</td>\n",
       "    </tr>\n",
       "    <tr>\n",
       "      <th>3</th>\n",
       "      <td>XUYDIF</td>\n",
       "      <td>3.88622</td>\n",
       "      <td>7.3351</td>\n",
       "      <td>0.363202</td>\n",
       "      <td>1.301727</td>\n",
       "      <td>1.374730</td>\n",
       "      <td>-4.342234</td>\n",
       "      <td>1.785168</td>\n",
       "    </tr>\n",
       "    <tr>\n",
       "      <th>4</th>\n",
       "      <td>YEZFIU</td>\n",
       "      <td>7.76134</td>\n",
       "      <td>1275.6500</td>\n",
       "      <td>0.318448</td>\n",
       "      <td>6.437679</td>\n",
       "      <td>5.797507</td>\n",
       "      <td>-4.685284</td>\n",
       "      <td>4.751611</td>\n",
       "    </tr>\n",
       "    <tr>\n",
       "      <th>...</th>\n",
       "      <td>...</td>\n",
       "      <td>...</td>\n",
       "      <td>...</td>\n",
       "      <td>...</td>\n",
       "      <td>...</td>\n",
       "      <td>...</td>\n",
       "      <td>...</td>\n",
       "      <td>...</td>\n",
       "    </tr>\n",
       "    <tr>\n",
       "      <th>24206</th>\n",
       "      <td>QAZKIN</td>\n",
       "      <td>4.20402</td>\n",
       "      <td>NaN</td>\n",
       "      <td>NaN</td>\n",
       "      <td>NaN</td>\n",
       "      <td>NaN</td>\n",
       "      <td>NaN</td>\n",
       "      <td>3.292749</td>\n",
       "    </tr>\n",
       "    <tr>\n",
       "      <th>24207</th>\n",
       "      <td>WEZXAB01</td>\n",
       "      <td>2.28741</td>\n",
       "      <td>NaN</td>\n",
       "      <td>NaN</td>\n",
       "      <td>NaN</td>\n",
       "      <td>NaN</td>\n",
       "      <td>NaN</td>\n",
       "      <td>4.832323</td>\n",
       "    </tr>\n",
       "    <tr>\n",
       "      <th>24208</th>\n",
       "      <td>XANKED</td>\n",
       "      <td>1.94585</td>\n",
       "      <td>NaN</td>\n",
       "      <td>NaN</td>\n",
       "      <td>NaN</td>\n",
       "      <td>NaN</td>\n",
       "      <td>NaN</td>\n",
       "      <td>0.418669</td>\n",
       "    </tr>\n",
       "    <tr>\n",
       "      <th>24209</th>\n",
       "      <td>AKINIS</td>\n",
       "      <td>2.42584</td>\n",
       "      <td>NaN</td>\n",
       "      <td>NaN</td>\n",
       "      <td>NaN</td>\n",
       "      <td>NaN</td>\n",
       "      <td>NaN</td>\n",
       "      <td>2.156904</td>\n",
       "    </tr>\n",
       "    <tr>\n",
       "      <th>24210</th>\n",
       "      <td>NAWSEM</td>\n",
       "      <td>1.74538</td>\n",
       "      <td>NaN</td>\n",
       "      <td>NaN</td>\n",
       "      <td>NaN</td>\n",
       "      <td>NaN</td>\n",
       "      <td>NaN</td>\n",
       "      <td>0.648732</td>\n",
       "    </tr>\n",
       "  </tbody>\n",
       "</table>\n",
       "<p>24211 rows × 8 columns</p>\n",
       "</div>"
      ],
      "text/plain": [
       "       CSD code  Largest included sphere diameter (A)  \\\n",
       "0        QONLAI                               6.10211   \n",
       "1        BUKYAJ                               5.10209   \n",
       "2        QAGDIO                              12.81046   \n",
       "3        XUYDIF                               3.88622   \n",
       "4        YEZFIU                               7.76134   \n",
       "...         ...                                   ...   \n",
       "24206    QAZKIN                               4.20402   \n",
       "24207  WEZXAB01                               2.28741   \n",
       "24208    XANKED                               1.94585   \n",
       "24209    AKINIS                               2.42584   \n",
       "24210    NAWSEM                               1.74538   \n",
       "\n",
       "       Total volumetric surface area (m^2/m^3)  CO2 uptake at LP (mol/kg)  \\\n",
       "0                                    1909.4500                   0.624173   \n",
       "1                                     752.8280                   2.442599   \n",
       "2                                    1833.5900                   0.440013   \n",
       "3                                       7.3351                   0.363202   \n",
       "4                                    1275.6500                   0.318448   \n",
       "...                                        ...                        ...   \n",
       "24206                                      NaN                        NaN   \n",
       "24207                                      NaN                        NaN   \n",
       "24208                                      NaN                        NaN   \n",
       "24209                                      NaN                        NaN   \n",
       "24210                                      NaN                        NaN   \n",
       "\n",
       "       CO2 uptake at HP (mol/kg)  CH4 uptake at HP (mol/kg)  logKH_CO2  \\\n",
       "0                      10.315793                   8.403936  -4.376034   \n",
       "1                       6.769549                   6.642334  -3.589223   \n",
       "2                      16.889565                  13.095273  -4.533132   \n",
       "3                       1.301727                   1.374730  -4.342234   \n",
       "4                       6.437679                   5.797507  -4.685284   \n",
       "...                          ...                        ...        ...   \n",
       "24206                        NaN                        NaN        NaN   \n",
       "24207                        NaN                        NaN        NaN   \n",
       "24208                        NaN                        NaN        NaN   \n",
       "24209                        NaN                        NaN        NaN   \n",
       "24210                        NaN                        NaN        NaN   \n",
       "\n",
       "       Band gap (eV)  \n",
       "0           0.485636  \n",
       "1           3.866396  \n",
       "2           0.340761  \n",
       "3           1.785168  \n",
       "4           4.751611  \n",
       "...              ...  \n",
       "24206       3.292749  \n",
       "24207       4.832323  \n",
       "24208       0.418669  \n",
       "24209       2.156904  \n",
       "24210       0.648732  \n",
       "\n",
       "[24211 rows x 8 columns]"
      ]
     },
     "execution_count": 14,
     "metadata": {},
     "output_type": "execute_result"
    }
   ],
   "source": [
    "propertyDF = pd.DataFrame(property_dict)\n",
    "propertyDF"
   ]
  },
  {
   "cell_type": "code",
   "execution_count": 15,
   "metadata": {},
   "outputs": [],
   "source": [
    "propertyDF.to_csv('CoRE_or_QMOF.csv', index = False)"
   ]
  },
  {
   "cell_type": "code",
   "execution_count": 16,
   "metadata": {},
   "outputs": [
    {
     "data": {
      "text/plain": [
       "0        https://doi.org/10.1016/j.molstruc.2004.03.051\n",
       "1                     https://doi.org/10.1021/ja048624i\n",
       "2                      https://doi.org/10.1039/b404485a\n",
       "3                      https://doi.org/10.1039/b404485a\n",
       "4                https://doi.org/10.1002/slct.201600331\n",
       "                              ...                      \n",
       "20370           https://doi.org/10.1021/acs.cgd.7b00848\n",
       "20371           https://doi.org/10.1021/acs.cgd.7b00848\n",
       "20372           https://doi.org/10.1021/acs.cgd.7b00848\n",
       "20373           https://doi.org/10.1021/acs.cgd.7b00848\n",
       "20374           https://doi.org/10.1021/acs.cgd.7b00848\n",
       "Name: info.doi, Length: 20375, dtype: object"
      ]
     },
     "execution_count": 16,
     "metadata": {},
     "output_type": "execute_result"
    }
   ],
   "source": [
    "qmof_df['info.doi']"
   ]
  },
  {
   "cell_type": "code",
   "execution_count": null,
   "metadata": {},
   "outputs": [],
   "source": []
  }
 ],
 "metadata": {
  "kernelspec": {
   "display_name": "base",
   "language": "python",
   "name": "python3"
  },
  "language_info": {
   "codemirror_mode": {
    "name": "ipython",
    "version": 3
   },
   "file_extension": ".py",
   "mimetype": "text/x-python",
   "name": "python",
   "nbconvert_exporter": "python",
   "pygments_lexer": "ipython3",
   "version": "3.10.12"
  }
 },
 "nbformat": 4,
 "nbformat_minor": 2
}
