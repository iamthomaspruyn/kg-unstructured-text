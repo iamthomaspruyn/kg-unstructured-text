{
 "cells": [
  {
   "cell_type": "code",
   "execution_count": 1,
   "metadata": {},
   "outputs": [],
   "source": [
    "import numpy as np\n",
    "import pandas as pd\n",
    "import pickle\n",
    "\n",
    "#Packages needed for getting the properties we need\n",
    "import mofid\n",
    "from mofid.run_mofid import cif2mofid\n",
    "from pymatgen.core import Structure\n",
    "from pymatgen.symmetry.analyzer import SpacegroupAnalyzer\n",
    "from collections import Counter\n",
    "import concurrent.futures"
   ]
  },
  {
   "cell_type": "code",
   "execution_count": 2,
   "metadata": {},
   "outputs": [
    {
     "data": {
      "text/html": [
       "<div>\n",
       "<style scoped>\n",
       "    .dataframe tbody tr th:only-of-type {\n",
       "        vertical-align: middle;\n",
       "    }\n",
       "\n",
       "    .dataframe tbody tr th {\n",
       "        vertical-align: top;\n",
       "    }\n",
       "\n",
       "    .dataframe thead th {\n",
       "        text-align: right;\n",
       "    }\n",
       "</style>\n",
       "<table border=\"1\" class=\"dataframe\">\n",
       "  <thead>\n",
       "    <tr style=\"text-align: right;\">\n",
       "      <th></th>\n",
       "      <th>CSD code</th>\n",
       "      <th>Largest included sphere diameter (A)</th>\n",
       "      <th>Total volumetric surface area (m^2/m^3)</th>\n",
       "      <th>CO2 uptake at LP (mol/kg)</th>\n",
       "      <th>CO2 uptake at HP (mol/kg)</th>\n",
       "      <th>CH4 uptake at HP (mol/kg)</th>\n",
       "      <th>logKH_CO2</th>\n",
       "      <th>Band gap (eV)</th>\n",
       "    </tr>\n",
       "  </thead>\n",
       "  <tbody>\n",
       "    <tr>\n",
       "      <th>0</th>\n",
       "      <td>QONLAI</td>\n",
       "      <td>6.10211</td>\n",
       "      <td>1909.4500</td>\n",
       "      <td>0.624173</td>\n",
       "      <td>10.315793</td>\n",
       "      <td>8.403936</td>\n",
       "      <td>-4.376034</td>\n",
       "      <td>0.485636</td>\n",
       "    </tr>\n",
       "    <tr>\n",
       "      <th>1</th>\n",
       "      <td>BUKYAJ</td>\n",
       "      <td>5.10209</td>\n",
       "      <td>752.8280</td>\n",
       "      <td>2.442599</td>\n",
       "      <td>6.769549</td>\n",
       "      <td>6.642334</td>\n",
       "      <td>-3.589223</td>\n",
       "      <td>3.866396</td>\n",
       "    </tr>\n",
       "    <tr>\n",
       "      <th>2</th>\n",
       "      <td>QAGDIO</td>\n",
       "      <td>12.81046</td>\n",
       "      <td>1833.5900</td>\n",
       "      <td>0.440013</td>\n",
       "      <td>16.889565</td>\n",
       "      <td>13.095273</td>\n",
       "      <td>-4.533132</td>\n",
       "      <td>0.340761</td>\n",
       "    </tr>\n",
       "    <tr>\n",
       "      <th>3</th>\n",
       "      <td>XUYDIF</td>\n",
       "      <td>3.88622</td>\n",
       "      <td>7.3351</td>\n",
       "      <td>0.363202</td>\n",
       "      <td>1.301727</td>\n",
       "      <td>1.374730</td>\n",
       "      <td>-4.342234</td>\n",
       "      <td>1.785168</td>\n",
       "    </tr>\n",
       "    <tr>\n",
       "      <th>4</th>\n",
       "      <td>YEZFIU</td>\n",
       "      <td>7.76134</td>\n",
       "      <td>1275.6500</td>\n",
       "      <td>0.318448</td>\n",
       "      <td>6.437679</td>\n",
       "      <td>5.797507</td>\n",
       "      <td>-4.685284</td>\n",
       "      <td>4.751611</td>\n",
       "    </tr>\n",
       "    <tr>\n",
       "      <th>...</th>\n",
       "      <td>...</td>\n",
       "      <td>...</td>\n",
       "      <td>...</td>\n",
       "      <td>...</td>\n",
       "      <td>...</td>\n",
       "      <td>...</td>\n",
       "      <td>...</td>\n",
       "      <td>...</td>\n",
       "    </tr>\n",
       "    <tr>\n",
       "      <th>24206</th>\n",
       "      <td>QAZKIN</td>\n",
       "      <td>4.20402</td>\n",
       "      <td>NaN</td>\n",
       "      <td>NaN</td>\n",
       "      <td>NaN</td>\n",
       "      <td>NaN</td>\n",
       "      <td>NaN</td>\n",
       "      <td>3.292749</td>\n",
       "    </tr>\n",
       "    <tr>\n",
       "      <th>24207</th>\n",
       "      <td>WEZXAB01</td>\n",
       "      <td>2.28741</td>\n",
       "      <td>NaN</td>\n",
       "      <td>NaN</td>\n",
       "      <td>NaN</td>\n",
       "      <td>NaN</td>\n",
       "      <td>NaN</td>\n",
       "      <td>4.832323</td>\n",
       "    </tr>\n",
       "    <tr>\n",
       "      <th>24208</th>\n",
       "      <td>XANKED</td>\n",
       "      <td>1.94585</td>\n",
       "      <td>NaN</td>\n",
       "      <td>NaN</td>\n",
       "      <td>NaN</td>\n",
       "      <td>NaN</td>\n",
       "      <td>NaN</td>\n",
       "      <td>0.418669</td>\n",
       "    </tr>\n",
       "    <tr>\n",
       "      <th>24209</th>\n",
       "      <td>AKINIS</td>\n",
       "      <td>2.42584</td>\n",
       "      <td>NaN</td>\n",
       "      <td>NaN</td>\n",
       "      <td>NaN</td>\n",
       "      <td>NaN</td>\n",
       "      <td>NaN</td>\n",
       "      <td>2.156904</td>\n",
       "    </tr>\n",
       "    <tr>\n",
       "      <th>24210</th>\n",
       "      <td>NAWSEM</td>\n",
       "      <td>1.74538</td>\n",
       "      <td>NaN</td>\n",
       "      <td>NaN</td>\n",
       "      <td>NaN</td>\n",
       "      <td>NaN</td>\n",
       "      <td>NaN</td>\n",
       "      <td>0.648732</td>\n",
       "    </tr>\n",
       "  </tbody>\n",
       "</table>\n",
       "<p>24211 rows × 8 columns</p>\n",
       "</div>"
      ],
      "text/plain": [
       "       CSD code  Largest included sphere diameter (A)  \\\n",
       "0        QONLAI                               6.10211   \n",
       "1        BUKYAJ                               5.10209   \n",
       "2        QAGDIO                              12.81046   \n",
       "3        XUYDIF                               3.88622   \n",
       "4        YEZFIU                               7.76134   \n",
       "...         ...                                   ...   \n",
       "24206    QAZKIN                               4.20402   \n",
       "24207  WEZXAB01                               2.28741   \n",
       "24208    XANKED                               1.94585   \n",
       "24209    AKINIS                               2.42584   \n",
       "24210    NAWSEM                               1.74538   \n",
       "\n",
       "       Total volumetric surface area (m^2/m^3)  CO2 uptake at LP (mol/kg)  \\\n",
       "0                                    1909.4500                   0.624173   \n",
       "1                                     752.8280                   2.442599   \n",
       "2                                    1833.5900                   0.440013   \n",
       "3                                       7.3351                   0.363202   \n",
       "4                                    1275.6500                   0.318448   \n",
       "...                                        ...                        ...   \n",
       "24206                                      NaN                        NaN   \n",
       "24207                                      NaN                        NaN   \n",
       "24208                                      NaN                        NaN   \n",
       "24209                                      NaN                        NaN   \n",
       "24210                                      NaN                        NaN   \n",
       "\n",
       "       CO2 uptake at HP (mol/kg)  CH4 uptake at HP (mol/kg)  logKH_CO2  \\\n",
       "0                      10.315793                   8.403936  -4.376034   \n",
       "1                       6.769549                   6.642334  -3.589223   \n",
       "2                      16.889565                  13.095273  -4.533132   \n",
       "3                       1.301727                   1.374730  -4.342234   \n",
       "4                       6.437679                   5.797507  -4.685284   \n",
       "...                          ...                        ...        ...   \n",
       "24206                        NaN                        NaN        NaN   \n",
       "24207                        NaN                        NaN        NaN   \n",
       "24208                        NaN                        NaN        NaN   \n",
       "24209                        NaN                        NaN        NaN   \n",
       "24210                        NaN                        NaN        NaN   \n",
       "\n",
       "       Band gap (eV)  \n",
       "0           0.485636  \n",
       "1           3.866396  \n",
       "2           0.340761  \n",
       "3           1.785168  \n",
       "4           4.751611  \n",
       "...              ...  \n",
       "24206       3.292749  \n",
       "24207       4.832323  \n",
       "24208       0.418669  \n",
       "24209       2.156904  \n",
       "24210       0.648732  \n",
       "\n",
       "[24211 rows x 8 columns]"
      ]
     },
     "execution_count": 2,
     "metadata": {},
     "output_type": "execute_result"
    }
   ],
   "source": [
    "df = pd.read_csv('CoRE_or_QMOF.csv')\n",
    "df"
   ]
  },
  {
   "cell_type": "code",
   "execution_count": 3,
   "metadata": {},
   "outputs": [],
   "source": [
    "with open('CSD code map/CSD_to_CORE.pickle', 'rb') as handle:\n",
    "    CSD_to_CORE = pickle.load(handle)\n",
    "\n",
    "with open('CSD code map/CSD_to_QMOF.pickle', 'rb') as handle:\n",
    "    CSD_to_QMOF = pickle.load(handle)"
   ]
  },
  {
   "cell_type": "code",
   "execution_count": 4,
   "metadata": {},
   "outputs": [],
   "source": [
    "with open('CSD code map/sets/CoRE_QMOF_intersection.pickle', 'rb') as handle:\n",
    "    CORE_QMOF_int = pickle.load(handle)\n",
    "\n",
    "with open('CSD code map/sets/CoRE_only.pickle', 'rb') as handle:\n",
    "    CORE_only = pickle.load(handle)\n",
    "\n",
    "with open('CSD code map/sets/QMOF_only.pickle', 'rb') as handle:\n",
    "    QMOF_only = pickle.load(handle)"
   ]
  },
  {
   "cell_type": "code",
   "execution_count": 11,
   "metadata": {},
   "outputs": [
    {
     "data": {
      "text/plain": [
       "(14885, 8162, 1164)"
      ]
     },
     "execution_count": 11,
     "metadata": {},
     "output_type": "execute_result"
    }
   ],
   "source": [
    "len(QMOF_only), len(CORE_only), len(CORE_QMOF_int)"
   ]
  },
  {
   "cell_type": "code",
   "execution_count": 6,
   "metadata": {},
   "outputs": [],
   "source": [
    "#make map of: [Metal atom type, SMILES of linker, MOFid, space group, molecular formula, crystal system]\n",
    "int_props = {} #{ref code : [map]}\n",
    "core_props = {} #core only\n",
    "qmof_props = {} #qmof only"
   ]
  },
  {
   "cell_type": "code",
   "execution_count": 26,
   "metadata": {},
   "outputs": [],
   "source": [
    "def getMOFid(directory):\n",
    "    mofid_dict = cif2mofid(directory)\n",
    "    return mofid_dict['mofid'], mofid_dict['smiles_nodes'], mofid_dict['smiles_linkers'], mofid_dict['smiles']\n",
    "\n",
    "def spaceGroup(structure):\n",
    "    analyzer = SpacegroupAnalyzer(structure)\n",
    "    return analyzer.get_space_group_symbol()\n",
    "\n",
    "def crystalSystem(structure):\n",
    "    analyzer = SpacegroupAnalyzer(structure)\n",
    "    return analyzer.get_crystal_system()\n",
    "\n",
    "def molecularFormula(structure):\n",
    "    formula = structure.composition.alphabetical_formula.replace(\" \", \"\")\n",
    "    return formula"
   ]
  },
  {
   "cell_type": "code",
   "execution_count": 29,
   "metadata": {},
   "outputs": [],
   "source": [
    "def process_code(code):\n",
    "    try:\n",
    "        actualCode = CSD_to_CORE[code]\n",
    "        directory = f'CoRE-MOF Data/cifs/{actualCode}.cif'\n",
    "        MOFid, smiles_nodes, smiles_linkers, smiles = getMOFid(directory=directory)\n",
    "        structure = Structure.from_file(directory)\n",
    "        space_group = spaceGroup(structure=structure)\n",
    "        crys_sys = crystalSystem(structure=structure)\n",
    "        formula = molecularFormula(structure=structure)\n",
    "        return code, [MOFid, smiles_nodes, smiles_linkers, smiles, formula, space_group, crys_sys]\n",
    "    except:\n",
    "        return code, np.nan\n",
    "    \n",
    "def process_fold(fold):\n",
    "    fold_results = {}\n",
    "    for code in fold:\n",
    "        code, result = process_code(code)\n",
    "        fold_results[code] = result\n",
    "    return fold_results\n",
    "\n",
    "def split_into_folds(data, n_folds):\n",
    "    return np.array_split(data, n_folds)"
   ]
  },
  {
   "cell_type": "code",
   "execution_count": 15,
   "metadata": {},
   "outputs": [],
   "source": [
    "int_props = {}\n",
    "n_folds = 10\n",
    "\n",
    "folds = split_into_folds(CORE_QMOF_int, n_folds)"
   ]
  },
  {
   "cell_type": "code",
   "execution_count": null,
   "metadata": {},
   "outputs": [],
   "source": [
    "with concurrent.futures.ThreadPoolExecutor() as executor:\n",
    "    future_to_fold = {executor.submit(process_fold, fold): fold for fold in folds}\n",
    "    for future in concurrent.futures.as_completed(future_to_fold):\n",
    "        fold_results = future.result()\n",
    "        int_props.update(fold_results)"
   ]
  },
  {
   "cell_type": "code",
   "execution_count": 20,
   "metadata": {},
   "outputs": [
    {
     "data": {
      "text/plain": [
       "1164"
      ]
     },
     "execution_count": 20,
     "metadata": {},
     "output_type": "execute_result"
    }
   ],
   "source": [
    "len(int_props)"
   ]
  },
  {
   "cell_type": "code",
   "execution_count": 23,
   "metadata": {},
   "outputs": [],
   "source": [
    "with open('CSD code map/property maps/int_props.pickle', 'wb') as handle:\n",
    "    pickle.dump(int_props, handle, protocol=pickle.HIGHEST_PROTOCOL)"
   ]
  },
  {
   "cell_type": "code",
   "execution_count": 30,
   "metadata": {},
   "outputs": [],
   "source": [
    "core_props = {}\n",
    "n_folds = 10\n",
    "\n",
    "folds = split_into_folds(CORE_only, n_folds)"
   ]
  },
  {
   "cell_type": "code",
   "execution_count": 31,
   "metadata": {},
   "outputs": [
    {
     "name": "stderr",
     "output_type": "stream",
     "text": [
      "==============================\n",
      "*** Open Babel Warning  in InChI code\n",
      "  #0 :Accepted unusual valence(s): O(1)\n"
     ]
    },
    {
     "name": "stdout",
     "output_type": "stream",
     "text": [
      "1\n",
      "1\n"
     ]
    },
    {
     "name": "stderr",
     "output_type": "stream",
     "text": [
      "==============================\n",
      "*** Open Babel Error  in WriteSystre\n",
      "  Found two neighboring 2-c sites.  Flagging the cgd output to get an error instead of the incorrect topology.\n",
      "Note: Rerun ExportSystre() with simplify_two_conn=false if an unsimplified net is useful.\n",
      "==============================\n",
      "*** Open Babel Error  in WriteSystre\n",
      "  Found two neighboring 2-c sites.  Flagging the cgd output to get an error instead of the incorrect topology.\n",
      "Note: Rerun ExportSystre() with simplify_two_conn=false if an unsimplified net is useful.\n",
      "==============================\n",
      "*** Open Babel Error  in WriteSystre\n",
      "  Found two neighboring 2-c sites.  Flagging the cgd output to get an error instead of the incorrect topology.\n",
      "Note: Rerun ExportSystre() with simplify_two_conn=false if an unsimplified net is useful.\n",
      "==============================\n",
      "*** Open Babel Error  in WriteSystre\n",
      "  Found two neighboring 2-c sites.  Flagging the cgd output to get an error instead of the incorrect topology.\n",
      "Note: Rerun ExportSystre() with simplify_two_conn=false if an unsimplified net is useful.\n"
     ]
    },
    {
     "name": "stdout",
     "output_type": "stream",
     "text": [
      "1\n",
      "1\n",
      "1\n"
     ]
    },
    {
     "name": "stderr",
     "output_type": "stream",
     "text": [
      "==============================\n",
      "*** Open Babel Warning  in InChI code\n",
      "  #0 :Accepted unusual valence(s): C(3)\n"
     ]
    },
    {
     "name": "stdout",
     "output_type": "stream",
     "text": [
      "1\n"
     ]
    },
    {
     "name": "stderr",
     "output_type": "stream",
     "text": [
      "==============================\n",
      "*** Open Babel Error  in WriteSystre\n",
      "  Found two neighboring 2-c sites.  Flagging the cgd output to get an error instead of the incorrect topology.\n",
      "Note: Rerun ExportSystre() with simplify_two_conn=false if an unsimplified net is useful.\n",
      "==============================\n",
      "*** Open Babel Warning  in InChI code\n",
      "  #0 :Accepted unusual valence(s): N(4); N(2)\n",
      "==============================\n",
      "*** Open Babel Error  in WriteSystre\n",
      "  Found two neighboring 2-c sites.  Flagging the cgd output to get an error instead of the incorrect topology.\n",
      "Note: Rerun ExportSystre() with simplify_two_conn=false if an unsimplified net is useful.\n",
      "==============================\n",
      "*** Open Babel Error  in WriteSystre\n",
      "  Found two neighboring 2-c sites.  Flagging the cgd output to get an error instead of the incorrect topology.\n",
      "Note: Rerun ExportSystre() with simplify_two_conn=false if an unsimplified net is useful.\n"
     ]
    },
    {
     "name": "stdout",
     "output_type": "stream",
     "text": [
      "1\n"
     ]
    },
    {
     "name": "stderr",
     "output_type": "stream",
     "text": [
      "==============================\n",
      "*** Open Babel Warning  in InChI code\n",
      "  #0 :Accepted unusual valence(s): O(1);\n"
     ]
    },
    {
     "name": "stdout",
     "output_type": "stream",
     "text": [
      "1\n"
     ]
    },
    {
     "name": "stderr",
     "output_type": "stream",
     "text": [
      "/home/sartaaj/.local/lib/python3.10/site-packages/pymatgen/io/cif.py:1200: UserWarning: Issues encountered while parsing CIF: 2 fractional coordinates rounded to ideal values to avoid issues with finite precision.\n",
      "  warnings.warn(\"Issues encountered while parsing CIF: \" + \"\\n\".join(self.warnings))\n",
      "==============================\n",
      "*** Open Babel Error  in WriteSystre\n",
      "  Found two neighboring 2-c sites.  Flagging the cgd output to get an error instead of the incorrect topology.\n",
      "Note: Rerun ExportSystre() with simplify_two_conn=false if an unsimplified net is useful.\n",
      "==============================\n",
      "*** Open Babel Error  in WriteSystre\n",
      "  Found two neighboring 2-c sites.  Flagging the cgd output to get an error instead of the incorrect topology.\n",
      "Note: Rerun ExportSystre() with simplify_two_conn=false if an unsimplified net is useful.\n"
     ]
    },
    {
     "name": "stdout",
     "output_type": "stream",
     "text": [
      "1\n"
     ]
    },
    {
     "name": "stderr",
     "output_type": "stream",
     "text": [
      "==============================\n",
      "*** Open Babel Warning  in InChI code\n",
      "  #0 :Accepted unusual valence(s): N(2)\n"
     ]
    },
    {
     "name": "stdout",
     "output_type": "stream",
     "text": [
      "1\n"
     ]
    },
    {
     "name": "stderr",
     "output_type": "stream",
     "text": [
      "/home/sartaaj/.local/lib/python3.10/site-packages/pymatgen/io/cif.py:1200: UserWarning: Issues encountered while parsing CIF: 10 fractional coordinates rounded to ideal values to avoid issues with finite precision.\n",
      "  warnings.warn(\"Issues encountered while parsing CIF: \" + \"\\n\".join(self.warnings))\n",
      "==============================\n",
      "*** Open Babel Warning  in InChI code\n",
      "  #0 :Accepted unusual valence(s): N(2);\n"
     ]
    },
    {
     "name": "stdout",
     "output_type": "stream",
     "text": [
      "1\n"
     ]
    },
    {
     "name": "stderr",
     "output_type": "stream",
     "text": [
      "/home/sartaaj/.local/lib/python3.10/site-packages/pymatgen/io/cif.py:1200: UserWarning: Issues encountered while parsing CIF: 4 fractional coordinates rounded to ideal values to avoid issues with finite precision.\n",
      "  warnings.warn(\"Issues encountered while parsing CIF: \" + \"\\n\".join(self.warnings))\n"
     ]
    },
    {
     "name": "stdout",
     "output_type": "stream",
     "text": [
      "1\n"
     ]
    },
    {
     "name": "stderr",
     "output_type": "stream",
     "text": [
      "/home/sartaaj/.local/lib/python3.10/site-packages/pymatgen/io/cif.py:1200: UserWarning: Issues encountered while parsing CIF: 20 fractional coordinates rounded to ideal values to avoid issues with finite precision.\n",
      "  warnings.warn(\"Issues encountered while parsing CIF: \" + \"\\n\".join(self.warnings))\n",
      "==============================\n",
      "*** Open Babel Warning  in InChI code\n",
      "  #0 :Accepted unusual valence(s): N(2)\n",
      "==============================\n",
      "*** Open Babel Warning  in InChI code\n",
      "  #0 :Accepted unusual valence(s): N(1); N(2)\n"
     ]
    },
    {
     "name": "stdout",
     "output_type": "stream",
     "text": [
      "1\n",
      "1\n",
      "1\n"
     ]
    },
    {
     "name": "stderr",
     "output_type": "stream",
     "text": [
      "==============================\n",
      "*** Open Babel Warning  in InChI code\n",
      "  #0 :Accepted unusual valence(s): N(2);\n"
     ]
    },
    {
     "name": "stdout",
     "output_type": "stream",
     "text": [
      "1\n"
     ]
    },
    {
     "name": "stderr",
     "output_type": "stream",
     "text": [
      "==============================\n",
      "*** Open Babel Warning  in InChI code\n",
      "  #0 :Accepted unusual valence(s): O(1)\n",
      "==============================\n",
      "*** Open Babel Warning  in GetRoleFromAtom\n",
      "  Unknown atom identity\n",
      "==============================\n",
      "*** Open Babel Warning  in GetRoleFromAtom\n",
      "  Unknown atom identity\n",
      "==============================\n",
      "*** Open Babel Warning  in GetRoleFromAtom\n",
      "  Unknown atom identity\n",
      "==============================\n",
      "*** Open Babel Warning  in SimplifyTopology\n",
      "  Unexpected atom role in the simplified net.\n",
      "==============================\n",
      "*** Open Babel Warning  in GetRoleFromAtom\n",
      "  Unknown atom identity\n",
      "==============================\n",
      "*** Open Babel Warning  in GetRoleFromAtom\n",
      "  Unknown atom identity\n",
      "==============================\n",
      "*** Open Babel Warning  in GetRoleFromAtom\n",
      "  Unknown atom identity\n",
      "==============================\n",
      "*** Open Babel Warning  in SimplifyTopology\n",
      "  Unexpected atom role in the simplified net.\n",
      "==============================\n",
      "*** Open Babel Warning  in GetRoleFromAtom\n",
      "  Unknown atom identity\n",
      "==============================\n",
      "*** Open Babel Warning  in GetRoleFromAtom\n",
      "  Unknown atom identity\n",
      "==============================\n",
      "*** Open Babel Warning  in GetRoleFromAtom\n",
      "  Unknown atom identity\n",
      "==============================\n",
      "*** Open Babel Warning  in SimplifyTopology\n",
      "  Unexpected atom role in the simplified net.\n",
      "==============================\n",
      "*** Open Babel Warning  in GetRoleFromAtom\n",
      "  Unknown atom identity\n",
      "==============================\n",
      "*** Open Babel Warning  in GetRoleFromAtom\n",
      "  Unknown atom identity\n",
      "==============================\n",
      "*** Open Babel Warning  in GetRoleFromAtom\n",
      "  Unknown atom identity\n",
      "==============================\n",
      "*** Open Babel Warning  in SimplifyTopology\n",
      "  Unexpected atom role in the simplified net.\n",
      "==============================\n",
      "*** Open Babel Warning  in GetRoleFromAtom\n",
      "  Unknown atom identity\n",
      "==============================\n",
      "*** Open Babel Warning  in GetRoleFromAtom\n",
      "  Unknown atom identity\n",
      "==============================\n",
      "*** Open Babel Warning  in GetRoleFromAtom\n",
      "  Unknown atom identity\n",
      "==============================\n",
      "*** Open Babel Warning  in SimplifyTopology\n",
      "  Unexpected atom role in the simplified net.\n",
      "==============================\n",
      "*** Open Babel Warning  in GetRoleFromAtom\n",
      "  Unknown atom identity\n",
      "==============================\n",
      "*** Open Babel Warning  in GetRoleFromAtom\n",
      "  Unknown atom identity\n",
      "==============================\n",
      "*** Open Babel Warning  in GetRoleFromAtom\n",
      "  Unknown atom identity\n",
      "==============================\n",
      "*** Open Babel Warning  in SimplifyTopology\n",
      "  Unexpected atom role in the simplified net.\n",
      "==============================\n",
      "*** Open Babel Warning  in GetRoleFromAtom\n",
      "  Unknown atom identity\n",
      "==============================\n",
      "*** Open Babel Warning  in GetRoleFromAtom\n",
      "  Unknown atom identity\n",
      "==============================\n",
      "*** Open Babel Warning  in GetRoleFromAtom\n",
      "  Unknown atom identity\n",
      "==============================\n",
      "*** Open Babel Warning  in SimplifyTopology\n",
      "  Unexpected atom role in the simplified net.\n",
      "==============================\n",
      "*** Open Babel Warning  in GetRoleFromAtom\n",
      "  Unknown atom identity\n",
      "==============================\n",
      "*** Open Babel Warning  in GetRoleFromAtom\n",
      "  Unknown atom identity\n",
      "==============================\n",
      "*** Open Babel Warning  in GetRoleFromAtom\n",
      "  Unknown atom identity\n",
      "==============================\n",
      "*** Open Babel Warning  in SimplifyTopology\n",
      "  Unexpected atom role in the simplified net.\n"
     ]
    },
    {
     "name": "stdout",
     "output_type": "stream",
     "text": [
      "1\n"
     ]
    },
    {
     "name": "stderr",
     "output_type": "stream",
     "text": [
      "==============================\n",
      "*** Open Babel Warning  in InChI code\n",
      "  #0 :Accepted unusual valence(s): N(4); N(2)\n"
     ]
    },
    {
     "name": "stdout",
     "output_type": "stream",
     "text": [
      "1\n",
      "1\n"
     ]
    },
    {
     "name": "stderr",
     "output_type": "stream",
     "text": [
      "/home/sartaaj/.local/lib/python3.10/site-packages/pymatgen/io/cif.py:1200: UserWarning: Issues encountered while parsing CIF: 8 fractional coordinates rounded to ideal values to avoid issues with finite precision.\n",
      "  warnings.warn(\"Issues encountered while parsing CIF: \" + \"\\n\".join(self.warnings))\n",
      "==============================\n",
      "*** Open Babel Warning  in InChI code\n",
      "  #0 :Accepted unusual valence(s): N(4); N(2)\n"
     ]
    },
    {
     "name": "stdout",
     "output_type": "stream",
     "text": [
      "1\n"
     ]
    },
    {
     "name": "stderr",
     "output_type": "stream",
     "text": [
      "==============================\n",
      "*** Open Babel Warning  in InChI code\n",
      "  #0 :Accepted unusual valence(s): N(4); N(2)\n"
     ]
    },
    {
     "name": "stdout",
     "output_type": "stream",
     "text": [
      "1\n",
      "1\n",
      "1\n"
     ]
    },
    {
     "name": "stderr",
     "output_type": "stream",
     "text": [
      "==============================\n",
      "*** Open Babel Warning  in InChI code\n",
      "  #0 :Accepted unusual valence(s): N(2)\n"
     ]
    },
    {
     "name": "stdout",
     "output_type": "stream",
     "text": [
      "1\n"
     ]
    },
    {
     "name": "stderr",
     "output_type": "stream",
     "text": [
      "/home/sartaaj/.local/lib/python3.10/site-packages/pymatgen/io/cif.py:1200: UserWarning: Issues encountered while parsing CIF: 2 fractional coordinates rounded to ideal values to avoid issues with finite precision.\n",
      "  warnings.warn(\"Issues encountered while parsing CIF: \" + \"\\n\".join(self.warnings))\n",
      "==============================\n",
      "*** Open Babel Warning  in InChI code\n",
      "  #0 :Accepted unusual valence(s): O(1)\n"
     ]
    },
    {
     "name": "stdout",
     "output_type": "stream",
     "text": [
      "1\n"
     ]
    }
   ],
   "source": [
    "with concurrent.futures.ThreadPoolExecutor() as executor:\n",
    "    future_to_fold = {executor.submit(process_fold, fold): fold for fold in folds}\n",
    "    for future in concurrent.futures.as_completed(future_to_fold):\n",
    "        fold_results = future.result()\n",
    "        core_props.update(fold_results)"
   ]
  },
  {
   "cell_type": "code",
   "execution_count": 32,
   "metadata": {},
   "outputs": [
    {
     "name": "stdout",
     "output_type": "stream",
     "text": [
      "8162\n"
     ]
    }
   ],
   "source": [
    "print(len(core_props))\n",
    "\n",
    "with open('CSD code map/property maps/core_props.pickle', 'wb') as handle:\n",
    "    pickle.dump(core_props, handle, protocol=pickle.HIGHEST_PROTOCOL)"
   ]
  },
  {
   "cell_type": "code",
   "execution_count": 15,
   "metadata": {},
   "outputs": [
    {
     "name": "stderr",
     "output_type": "stream",
     "text": [
      "/tmp/ipykernel_1970329/1168522333.py:1: DtypeWarning: Columns (40,41,43,44,45,46,47,49,50,51,52,53,55,56,57,65,66,67,68,69,77,78,79,80,81,89,90,91,92,93) have mixed types. Specify dtype option on import or set low_memory=False.\n",
      "  qmof_df = pd.read_csv('QMOF Data/qmof.csv')\n"
     ]
    },
    {
     "data": {
      "text/html": [
       "<div>\n",
       "<style scoped>\n",
       "    .dataframe tbody tr th:only-of-type {\n",
       "        vertical-align: middle;\n",
       "    }\n",
       "\n",
       "    .dataframe tbody tr th {\n",
       "        vertical-align: top;\n",
       "    }\n",
       "\n",
       "    .dataframe thead th {\n",
       "        text-align: right;\n",
       "    }\n",
       "</style>\n",
       "<table border=\"1\" class=\"dataframe\">\n",
       "  <thead>\n",
       "    <tr style=\"text-align: right;\">\n",
       "      <th></th>\n",
       "      <th>qmof_id</th>\n",
       "      <th>name</th>\n",
       "      <th>info.formula</th>\n",
       "      <th>info.formula_reduced</th>\n",
       "      <th>info.mofid.mofid</th>\n",
       "      <th>info.mofid.mofkey</th>\n",
       "      <th>info.mofid.smiles_nodes</th>\n",
       "      <th>info.mofid.smiles_linkers</th>\n",
       "      <th>info.mofid.smiles</th>\n",
       "      <th>info.mofid.topology</th>\n",
       "      <th>...</th>\n",
       "      <th>outputs.hse06.energy_elec</th>\n",
       "      <th>outputs.hse06.net_magmom</th>\n",
       "      <th>outputs.hse06.bandgap</th>\n",
       "      <th>outputs.hse06.cbm</th>\n",
       "      <th>outputs.hse06.vbm</th>\n",
       "      <th>outputs.hse06.directgap</th>\n",
       "      <th>outputs.hse06.bandgap_spins</th>\n",
       "      <th>outputs.hse06.cbm_spins</th>\n",
       "      <th>outputs.hse06.vbm_spins</th>\n",
       "      <th>outputs.hse06.directgap_spins</th>\n",
       "    </tr>\n",
       "  </thead>\n",
       "  <tbody>\n",
       "    <tr>\n",
       "      <th>0</th>\n",
       "      <td>qmof-8a95c27</td>\n",
       "      <td>ABACUF01_FSR</td>\n",
       "      <td>Ba2CuC6H14O16</td>\n",
       "      <td>Ba2CuC6H14O16</td>\n",
       "      <td>NaN</td>\n",
       "      <td>NaN</td>\n",
       "      <td>['O', '[Ba]', '[Cu]']</td>\n",
       "      <td>['[O-]C=O']</td>\n",
       "      <td>O.[Ba].[Cu].[O-]C=O</td>\n",
       "      <td>NaN</td>\n",
       "      <td>...</td>\n",
       "      <td>NaN</td>\n",
       "      <td>NaN</td>\n",
       "      <td>NaN</td>\n",
       "      <td>NaN</td>\n",
       "      <td>NaN</td>\n",
       "      <td>NaN</td>\n",
       "      <td>NaN</td>\n",
       "      <td>NaN</td>\n",
       "      <td>NaN</td>\n",
       "      <td>NaN</td>\n",
       "    </tr>\n",
       "    <tr>\n",
       "      <th>1</th>\n",
       "      <td>qmof-019ba28</td>\n",
       "      <td>ABALOF_FSR</td>\n",
       "      <td>Cu12C36H56I16N4S4</td>\n",
       "      <td>Cu3C9H14I4NS</td>\n",
       "      <td>NaN</td>\n",
       "      <td>NaN</td>\n",
       "      <td>NaN</td>\n",
       "      <td>NaN</td>\n",
       "      <td>NaN</td>\n",
       "      <td>NaN</td>\n",
       "      <td>...</td>\n",
       "      <td>NaN</td>\n",
       "      <td>NaN</td>\n",
       "      <td>NaN</td>\n",
       "      <td>NaN</td>\n",
       "      <td>NaN</td>\n",
       "      <td>NaN</td>\n",
       "      <td>NaN</td>\n",
       "      <td>NaN</td>\n",
       "      <td>NaN</td>\n",
       "      <td>NaN</td>\n",
       "    </tr>\n",
       "    <tr>\n",
       "      <th>2</th>\n",
       "      <td>qmof-830ed1c</td>\n",
       "      <td>ABAVIJ_FSR</td>\n",
       "      <td>Co4C48H32N8O16</td>\n",
       "      <td>CoC12H8N2O4</td>\n",
       "      <td>[Co].[O-]C(=O)c1ccncc1 MOFid-v1.rtl.cat0</td>\n",
       "      <td>Co.TWBYWOBDOCUKOW.MOFkey-v1.rtl</td>\n",
       "      <td>['[Co]']</td>\n",
       "      <td>['[O-]C(=O)c1ccncc1']</td>\n",
       "      <td>[Co].[O-]C(=O)c1ccncc1</td>\n",
       "      <td>rtl</td>\n",
       "      <td>...</td>\n",
       "      <td>NaN</td>\n",
       "      <td>NaN</td>\n",
       "      <td>NaN</td>\n",
       "      <td>NaN</td>\n",
       "      <td>NaN</td>\n",
       "      <td>NaN</td>\n",
       "      <td>NaN</td>\n",
       "      <td>NaN</td>\n",
       "      <td>NaN</td>\n",
       "      <td>NaN</td>\n",
       "    </tr>\n",
       "    <tr>\n",
       "      <th>3</th>\n",
       "      <td>qmof-5bd4a24</td>\n",
       "      <td>ABAVOP_FSR</td>\n",
       "      <td>Co4C48H32N8O16</td>\n",
       "      <td>CoC12H8N2O4</td>\n",
       "      <td>[Co].[O-]C(=O)c1ccncc1 MOFid-v1.rtl.cat0</td>\n",
       "      <td>Co.TWBYWOBDOCUKOW.MOFkey-v1.rtl</td>\n",
       "      <td>['[Co]']</td>\n",
       "      <td>['[O-]C(=O)c1ccncc1']</td>\n",
       "      <td>[Co].[O-]C(=O)c1ccncc1</td>\n",
       "      <td>rtl</td>\n",
       "      <td>...</td>\n",
       "      <td>NaN</td>\n",
       "      <td>NaN</td>\n",
       "      <td>NaN</td>\n",
       "      <td>NaN</td>\n",
       "      <td>NaN</td>\n",
       "      <td>NaN</td>\n",
       "      <td>NaN</td>\n",
       "      <td>NaN</td>\n",
       "      <td>NaN</td>\n",
       "      <td>NaN</td>\n",
       "    </tr>\n",
       "    <tr>\n",
       "      <th>4</th>\n",
       "      <td>qmof-644aab4</td>\n",
       "      <td>ABAXUZ_FSR</td>\n",
       "      <td>Zn2C50H32N6O8S4</td>\n",
       "      <td>ZnC25H16N3O4S2</td>\n",
       "      <td>NaN</td>\n",
       "      <td>NaN</td>\n",
       "      <td>['[Zn][Zn]']</td>\n",
       "      <td>['[O-]C(=O)c1cccc(c1)c1nccs1', 'n1ccc(cc1)c1cc...</td>\n",
       "      <td>[O-]C(=O)c1cccc(c1)c1nccs1.[Zn][Zn].n1ccc(cc1)...</td>\n",
       "      <td>NaN</td>\n",
       "      <td>...</td>\n",
       "      <td>-811.553858</td>\n",
       "      <td>0.0</td>\n",
       "      <td>2.901747</td>\n",
       "      <td>2.246703</td>\n",
       "      <td>-0.655044</td>\n",
       "      <td>True</td>\n",
       "      <td>[None, None]</td>\n",
       "      <td>[None, None]</td>\n",
       "      <td>[None, None]</td>\n",
       "      <td>[None, None]</td>\n",
       "    </tr>\n",
       "    <tr>\n",
       "      <th>...</th>\n",
       "      <td>...</td>\n",
       "      <td>...</td>\n",
       "      <td>...</td>\n",
       "      <td>...</td>\n",
       "      <td>...</td>\n",
       "      <td>...</td>\n",
       "      <td>...</td>\n",
       "      <td>...</td>\n",
       "      <td>...</td>\n",
       "      <td>...</td>\n",
       "      <td>...</td>\n",
       "      <td>...</td>\n",
       "      <td>...</td>\n",
       "      <td>...</td>\n",
       "      <td>...</td>\n",
       "      <td>...</td>\n",
       "      <td>...</td>\n",
       "      <td>...</td>\n",
       "      <td>...</td>\n",
       "      <td>...</td>\n",
       "      <td>...</td>\n",
       "    </tr>\n",
       "    <tr>\n",
       "      <th>20370</th>\n",
       "      <td>qmof-7aebbbb</td>\n",
       "      <td>tobacco_srsb_sym_3_on_2_sym_3_mc_0_L_2</td>\n",
       "      <td>Cu12C84H60N24</td>\n",
       "      <td>CuC7H5N2</td>\n",
       "      <td>N1=C[C](C=N1)C=Cc1cc(C=CC2=C[N]N=C2)cc(c1)C=CC...</td>\n",
       "      <td>Cu.IBPUNEAULYEGJU.MOFkey-v1.srs</td>\n",
       "      <td>['[Cu]']</td>\n",
       "      <td>['N1=C[C](C=N1)C=Cc1cc(C=CC2=C[N]N=C2)cc(c1)C=...</td>\n",
       "      <td>N1=C[C](C=N1)C=Cc1cc(C=CC2=C[N]N=C2)cc(c1)C=CC...</td>\n",
       "      <td>srs</td>\n",
       "      <td>...</td>\n",
       "      <td>NaN</td>\n",
       "      <td>NaN</td>\n",
       "      <td>NaN</td>\n",
       "      <td>NaN</td>\n",
       "      <td>NaN</td>\n",
       "      <td>NaN</td>\n",
       "      <td>NaN</td>\n",
       "      <td>NaN</td>\n",
       "      <td>NaN</td>\n",
       "      <td>NaN</td>\n",
       "    </tr>\n",
       "    <tr>\n",
       "      <th>20371</th>\n",
       "      <td>qmof-9a04c15</td>\n",
       "      <td>tobacco_srsb_sym_3_on_2_sym_3_mc_0_L_6</td>\n",
       "      <td>Cu12C84H48N60</td>\n",
       "      <td>CuC7H4N5</td>\n",
       "      <td>N1=C[C](C=N1)n1nnc(c1)c1cc(cc(c1)c1nnn(c1)C1=C...</td>\n",
       "      <td>Cu.JWLDCPHWRGZUAB.MOFkey-v1.srs</td>\n",
       "      <td>['[Cu]']</td>\n",
       "      <td>['N1=C[C](C=N1)n1nnc(c1)c1cc(cc(c1)c1nnn(c1)C1...</td>\n",
       "      <td>N1=C[C](C=N1)n1nnc(c1)c1cc(cc(c1)c1nnn(c1)C1=C...</td>\n",
       "      <td>srs</td>\n",
       "      <td>...</td>\n",
       "      <td>NaN</td>\n",
       "      <td>NaN</td>\n",
       "      <td>NaN</td>\n",
       "      <td>NaN</td>\n",
       "      <td>NaN</td>\n",
       "      <td>NaN</td>\n",
       "      <td>NaN</td>\n",
       "      <td>NaN</td>\n",
       "      <td>NaN</td>\n",
       "      <td>NaN</td>\n",
       "    </tr>\n",
       "    <tr>\n",
       "      <th>20372</th>\n",
       "      <td>qmof-0dce90f</td>\n",
       "      <td>tobacco_srsb_sym_3_on_2_sym_3_mc_0__</td>\n",
       "      <td>Cu12C60H36N24</td>\n",
       "      <td>CuC5H3N2</td>\n",
       "      <td>N1=C[C](C=N1)c1cc(cc(c1)C1=CN=N[CH]1)C1=C[N]N=...</td>\n",
       "      <td>Cu.PJSMFZDMZONQKK.MOFkey-v1.srs</td>\n",
       "      <td>['[Cu]', '[Cu][Cu]']</td>\n",
       "      <td>['N1=C[C](C=N1)c1cc(cc(c1)C1=CN=N[CH]1)C1=C[N]...</td>\n",
       "      <td>N1=C[C](C=N1)c1cc(cc(c1)C1=CN=N[CH]1)C1=C[N]N=...</td>\n",
       "      <td>srs</td>\n",
       "      <td>...</td>\n",
       "      <td>NaN</td>\n",
       "      <td>NaN</td>\n",
       "      <td>NaN</td>\n",
       "      <td>NaN</td>\n",
       "      <td>NaN</td>\n",
       "      <td>NaN</td>\n",
       "      <td>NaN</td>\n",
       "      <td>NaN</td>\n",
       "      <td>NaN</td>\n",
       "      <td>NaN</td>\n",
       "    </tr>\n",
       "    <tr>\n",
       "      <th>20373</th>\n",
       "      <td>qmof-955fe88</td>\n",
       "      <td>tobacco_srsb_sym_3_on_4_sym_3_mc_0_L_2</td>\n",
       "      <td>Cu12C112H72N24</td>\n",
       "      <td>Cu3C28H18N6</td>\n",
       "      <td>N1=C[C](C=N1)C=CC1=CC2=CC(=CC3=CC(=CC(=C1)[C]2...</td>\n",
       "      <td>Cu.WCJPEIPZJUESBA.MOFkey-v1.srs</td>\n",
       "      <td>['[Cu]']</td>\n",
       "      <td>['N1=C[C](C=N1)C=CC1=CC2=CC(=CC3=CC(=CC(=C1)[C...</td>\n",
       "      <td>N1=C[C](C=N1)C=CC1=CC2=CC(=CC3=CC(=CC(=C1)[C]2...</td>\n",
       "      <td>srs</td>\n",
       "      <td>...</td>\n",
       "      <td>NaN</td>\n",
       "      <td>NaN</td>\n",
       "      <td>NaN</td>\n",
       "      <td>NaN</td>\n",
       "      <td>NaN</td>\n",
       "      <td>NaN</td>\n",
       "      <td>NaN</td>\n",
       "      <td>NaN</td>\n",
       "      <td>NaN</td>\n",
       "      <td>NaN</td>\n",
       "    </tr>\n",
       "    <tr>\n",
       "      <th>20374</th>\n",
       "      <td>qmof-6538047</td>\n",
       "      <td>tobacco_srsb_sym_3_on_5_sym_3_mc_0_L_2</td>\n",
       "      <td>Cu12C108H72N36</td>\n",
       "      <td>CuC9H6N3</td>\n",
       "      <td>N1=C[C](C=N1)C=Cn1cc2c(c1)c1cn(cc1c1c2cn(c1)C=...</td>\n",
       "      <td>Cu.HPUZBJXKDGSLPP.MOFkey-v1.srs</td>\n",
       "      <td>['[Cu]', '[Cu][Cu]']</td>\n",
       "      <td>['N1=C[C](C=N1)C=Cn1cc2c(c1)c1cn(cc1c1c2cn(c1)...</td>\n",
       "      <td>N1=C[C](C=N1)C=Cn1cc2c(c1)c1cn(cc1c1c2cn(c1)C=...</td>\n",
       "      <td>srs</td>\n",
       "      <td>...</td>\n",
       "      <td>NaN</td>\n",
       "      <td>NaN</td>\n",
       "      <td>NaN</td>\n",
       "      <td>NaN</td>\n",
       "      <td>NaN</td>\n",
       "      <td>NaN</td>\n",
       "      <td>NaN</td>\n",
       "      <td>NaN</td>\n",
       "      <td>NaN</td>\n",
       "      <td>NaN</td>\n",
       "    </tr>\n",
       "  </tbody>\n",
       "</table>\n",
       "<p>20375 rows × 94 columns</p>\n",
       "</div>"
      ],
      "text/plain": [
       "            qmof_id                                    name  \\\n",
       "0      qmof-8a95c27                            ABACUF01_FSR   \n",
       "1      qmof-019ba28                              ABALOF_FSR   \n",
       "2      qmof-830ed1c                              ABAVIJ_FSR   \n",
       "3      qmof-5bd4a24                              ABAVOP_FSR   \n",
       "4      qmof-644aab4                              ABAXUZ_FSR   \n",
       "...             ...                                     ...   \n",
       "20370  qmof-7aebbbb  tobacco_srsb_sym_3_on_2_sym_3_mc_0_L_2   \n",
       "20371  qmof-9a04c15  tobacco_srsb_sym_3_on_2_sym_3_mc_0_L_6   \n",
       "20372  qmof-0dce90f    tobacco_srsb_sym_3_on_2_sym_3_mc_0__   \n",
       "20373  qmof-955fe88  tobacco_srsb_sym_3_on_4_sym_3_mc_0_L_2   \n",
       "20374  qmof-6538047  tobacco_srsb_sym_3_on_5_sym_3_mc_0_L_2   \n",
       "\n",
       "            info.formula info.formula_reduced  \\\n",
       "0          Ba2CuC6H14O16        Ba2CuC6H14O16   \n",
       "1      Cu12C36H56I16N4S4         Cu3C9H14I4NS   \n",
       "2         Co4C48H32N8O16          CoC12H8N2O4   \n",
       "3         Co4C48H32N8O16          CoC12H8N2O4   \n",
       "4        Zn2C50H32N6O8S4       ZnC25H16N3O4S2   \n",
       "...                  ...                  ...   \n",
       "20370      Cu12C84H60N24             CuC7H5N2   \n",
       "20371      Cu12C84H48N60             CuC7H4N5   \n",
       "20372      Cu12C60H36N24             CuC5H3N2   \n",
       "20373     Cu12C112H72N24          Cu3C28H18N6   \n",
       "20374     Cu12C108H72N36             CuC9H6N3   \n",
       "\n",
       "                                        info.mofid.mofid  \\\n",
       "0                                                    NaN   \n",
       "1                                                    NaN   \n",
       "2               [Co].[O-]C(=O)c1ccncc1 MOFid-v1.rtl.cat0   \n",
       "3               [Co].[O-]C(=O)c1ccncc1 MOFid-v1.rtl.cat0   \n",
       "4                                                    NaN   \n",
       "...                                                  ...   \n",
       "20370  N1=C[C](C=N1)C=Cc1cc(C=CC2=C[N]N=C2)cc(c1)C=CC...   \n",
       "20371  N1=C[C](C=N1)n1nnc(c1)c1cc(cc(c1)c1nnn(c1)C1=C...   \n",
       "20372  N1=C[C](C=N1)c1cc(cc(c1)C1=CN=N[CH]1)C1=C[N]N=...   \n",
       "20373  N1=C[C](C=N1)C=CC1=CC2=CC(=CC3=CC(=CC(=C1)[C]2...   \n",
       "20374  N1=C[C](C=N1)C=Cn1cc2c(c1)c1cn(cc1c1c2cn(c1)C=...   \n",
       "\n",
       "                     info.mofid.mofkey info.mofid.smiles_nodes  \\\n",
       "0                                  NaN   ['O', '[Ba]', '[Cu]']   \n",
       "1                                  NaN                     NaN   \n",
       "2      Co.TWBYWOBDOCUKOW.MOFkey-v1.rtl                ['[Co]']   \n",
       "3      Co.TWBYWOBDOCUKOW.MOFkey-v1.rtl                ['[Co]']   \n",
       "4                                  NaN            ['[Zn][Zn]']   \n",
       "...                                ...                     ...   \n",
       "20370  Cu.IBPUNEAULYEGJU.MOFkey-v1.srs                ['[Cu]']   \n",
       "20371  Cu.JWLDCPHWRGZUAB.MOFkey-v1.srs                ['[Cu]']   \n",
       "20372  Cu.PJSMFZDMZONQKK.MOFkey-v1.srs    ['[Cu]', '[Cu][Cu]']   \n",
       "20373  Cu.WCJPEIPZJUESBA.MOFkey-v1.srs                ['[Cu]']   \n",
       "20374  Cu.HPUZBJXKDGSLPP.MOFkey-v1.srs    ['[Cu]', '[Cu][Cu]']   \n",
       "\n",
       "                               info.mofid.smiles_linkers  \\\n",
       "0                                            ['[O-]C=O']   \n",
       "1                                                    NaN   \n",
       "2                                  ['[O-]C(=O)c1ccncc1']   \n",
       "3                                  ['[O-]C(=O)c1ccncc1']   \n",
       "4      ['[O-]C(=O)c1cccc(c1)c1nccs1', 'n1ccc(cc1)c1cc...   \n",
       "...                                                  ...   \n",
       "20370  ['N1=C[C](C=N1)C=Cc1cc(C=CC2=C[N]N=C2)cc(c1)C=...   \n",
       "20371  ['N1=C[C](C=N1)n1nnc(c1)c1cc(cc(c1)c1nnn(c1)C1...   \n",
       "20372  ['N1=C[C](C=N1)c1cc(cc(c1)C1=CN=N[CH]1)C1=C[N]...   \n",
       "20373  ['N1=C[C](C=N1)C=CC1=CC2=CC(=CC3=CC(=CC(=C1)[C...   \n",
       "20374  ['N1=C[C](C=N1)C=Cn1cc2c(c1)c1cn(cc1c1c2cn(c1)...   \n",
       "\n",
       "                                       info.mofid.smiles info.mofid.topology  \\\n",
       "0                                    O.[Ba].[Cu].[O-]C=O                 NaN   \n",
       "1                                                    NaN                 NaN   \n",
       "2                                 [Co].[O-]C(=O)c1ccncc1                 rtl   \n",
       "3                                 [Co].[O-]C(=O)c1ccncc1                 rtl   \n",
       "4      [O-]C(=O)c1cccc(c1)c1nccs1.[Zn][Zn].n1ccc(cc1)...                 NaN   \n",
       "...                                                  ...                 ...   \n",
       "20370  N1=C[C](C=N1)C=Cc1cc(C=CC2=C[N]N=C2)cc(c1)C=CC...                 srs   \n",
       "20371  N1=C[C](C=N1)n1nnc(c1)c1cc(cc(c1)c1nnn(c1)C1=C...                 srs   \n",
       "20372  N1=C[C](C=N1)c1cc(cc(c1)C1=CN=N[CH]1)C1=C[N]N=...                 srs   \n",
       "20373  N1=C[C](C=N1)C=CC1=CC2=CC(=CC3=CC(=CC(=C1)[C]2...                 srs   \n",
       "20374  N1=C[C](C=N1)C=Cn1cc2c(c1)c1cn(cc1c1c2cn(c1)C=...                 srs   \n",
       "\n",
       "       ...  outputs.hse06.energy_elec  outputs.hse06.net_magmom  \\\n",
       "0      ...                        NaN                       NaN   \n",
       "1      ...                        NaN                       NaN   \n",
       "2      ...                        NaN                       NaN   \n",
       "3      ...                        NaN                       NaN   \n",
       "4      ...                -811.553858                       0.0   \n",
       "...    ...                        ...                       ...   \n",
       "20370  ...                        NaN                       NaN   \n",
       "20371  ...                        NaN                       NaN   \n",
       "20372  ...                        NaN                       NaN   \n",
       "20373  ...                        NaN                       NaN   \n",
       "20374  ...                        NaN                       NaN   \n",
       "\n",
       "       outputs.hse06.bandgap  outputs.hse06.cbm  outputs.hse06.vbm  \\\n",
       "0                        NaN                NaN                NaN   \n",
       "1                        NaN                NaN                NaN   \n",
       "2                        NaN                NaN                NaN   \n",
       "3                        NaN                NaN                NaN   \n",
       "4                   2.901747           2.246703          -0.655044   \n",
       "...                      ...                ...                ...   \n",
       "20370                    NaN                NaN                NaN   \n",
       "20371                    NaN                NaN                NaN   \n",
       "20372                    NaN                NaN                NaN   \n",
       "20373                    NaN                NaN                NaN   \n",
       "20374                    NaN                NaN                NaN   \n",
       "\n",
       "      outputs.hse06.directgap  outputs.hse06.bandgap_spins  \\\n",
       "0                         NaN                          NaN   \n",
       "1                         NaN                          NaN   \n",
       "2                         NaN                          NaN   \n",
       "3                         NaN                          NaN   \n",
       "4                        True                 [None, None]   \n",
       "...                       ...                          ...   \n",
       "20370                     NaN                          NaN   \n",
       "20371                     NaN                          NaN   \n",
       "20372                     NaN                          NaN   \n",
       "20373                     NaN                          NaN   \n",
       "20374                     NaN                          NaN   \n",
       "\n",
       "      outputs.hse06.cbm_spins outputs.hse06.vbm_spins  \\\n",
       "0                         NaN                     NaN   \n",
       "1                         NaN                     NaN   \n",
       "2                         NaN                     NaN   \n",
       "3                         NaN                     NaN   \n",
       "4                [None, None]            [None, None]   \n",
       "...                       ...                     ...   \n",
       "20370                     NaN                     NaN   \n",
       "20371                     NaN                     NaN   \n",
       "20372                     NaN                     NaN   \n",
       "20373                     NaN                     NaN   \n",
       "20374                     NaN                     NaN   \n",
       "\n",
       "       outputs.hse06.directgap_spins  \n",
       "0                                NaN  \n",
       "1                                NaN  \n",
       "2                                NaN  \n",
       "3                                NaN  \n",
       "4                       [None, None]  \n",
       "...                              ...  \n",
       "20370                            NaN  \n",
       "20371                            NaN  \n",
       "20372                            NaN  \n",
       "20373                            NaN  \n",
       "20374                            NaN  \n",
       "\n",
       "[20375 rows x 94 columns]"
      ]
     },
     "execution_count": 15,
     "metadata": {},
     "output_type": "execute_result"
    }
   ],
   "source": [
    "qmof_df = pd.read_csv('QMOF Data/qmof.csv')\n",
    "qmof_df"
   ]
  },
  {
   "cell_type": "code",
   "execution_count": 16,
   "metadata": {},
   "outputs": [],
   "source": [
    "CSD_to_QMOF_id = {}\n",
    "\n",
    "for i in QMOF_only:\n",
    "    refcode = CSD_to_QMOF[i]\n",
    "    qmof_id = qmof_df[qmof_df['name'] == refcode]['qmof_id'].values[0]\n",
    "    CSD_to_QMOF_id[i] = qmof_id"
   ]
  },
  {
   "cell_type": "code",
   "execution_count": 28,
   "metadata": {},
   "outputs": [],
   "source": [
    "def process_code_QMOF(code):\n",
    "    try:\n",
    "        actualCode = CSD_to_QMOF_id[code]\n",
    "        directory = f'QMOF Data/relaxed_structures/{actualCode}.cif'\n",
    "        MOFid, smiles_nodes, smiles_linkers, smiles = getMOFid(directory=directory)\n",
    "        structure = Structure.from_file(directory)\n",
    "        space_group = spaceGroup(structure=structure)\n",
    "        crys_sys = crystalSystem(structure=structure)\n",
    "        formula = molecularFormula(structure=structure)\n",
    "        return code, [MOFid, smiles_nodes, smiles_linkers, smiles, formula, space_group, crys_sys]\n",
    "    except:\n",
    "        return code, np.nan\n",
    "    \n",
    "def process_fold_QMOF(fold):\n",
    "    fold_results = {}\n",
    "    for code in fold:\n",
    "        code, result = process_code_QMOF(code)\n",
    "        fold_results[code] = result\n",
    "    return fold_results\n",
    "\n",
    "def split_into_folds(data, n_folds):\n",
    "    return np.array_split(data, n_folds)"
   ]
  },
  {
   "cell_type": "code",
   "execution_count": 29,
   "metadata": {},
   "outputs": [],
   "source": [
    "qmof_props = {}\n",
    "n_folds = 10\n",
    "\n",
    "folds = split_into_folds(QMOF_only, n_folds)"
   ]
  },
  {
   "cell_type": "code",
   "execution_count": null,
   "metadata": {},
   "outputs": [],
   "source": [
    "with concurrent.futures.ThreadPoolExecutor() as executor:\n",
    "    future_to_fold = {executor.submit(process_fold_QMOF, fold): fold for fold in folds}\n",
    "    for future in concurrent.futures.as_completed(future_to_fold):\n",
    "        fold_results = future.result()\n",
    "        qmof_props.update(fold_results)"
   ]
  },
  {
   "cell_type": "code",
   "execution_count": 31,
   "metadata": {},
   "outputs": [
    {
     "name": "stdout",
     "output_type": "stream",
     "text": [
      "14885\n"
     ]
    }
   ],
   "source": [
    "print(len(qmof_props))\n",
    "\n",
    "with open('CSD code map/property maps/qmof_props.pickle', 'wb') as handle:\n",
    "    pickle.dump(qmof_props, handle, protocol=pickle.HIGHEST_PROTOCOL)"
   ]
  },
  {
   "cell_type": "code",
   "execution_count": 32,
   "metadata": {},
   "outputs": [
    {
     "data": {
      "text/plain": [
       "['O.[Ba].[Cu].[O-]C=O MOFid-v1.UNKNOWN.cat0;qmof-8a95c27',\n",
       " ['O', '[Ba]', '[Cu]'],\n",
       " ['[O-]C=O'],\n",
       " 'O.[Ba].[Cu].[O-]C=O',\n",
       " 'Ba2C6Cu1H14O16',\n",
       " 'P-1',\n",
       " 'triclinic']"
      ]
     },
     "execution_count": 32,
     "metadata": {},
     "output_type": "execute_result"
    }
   ],
   "source": [
    "qmof_props['ABACUF01']"
   ]
  },
  {
   "cell_type": "code",
   "execution_count": null,
   "metadata": {},
   "outputs": [],
   "source": []
  },
  {
   "cell_type": "code",
   "execution_count": null,
   "metadata": {},
   "outputs": [],
   "source": []
  },
  {
   "cell_type": "code",
   "execution_count": null,
   "metadata": {},
   "outputs": [],
   "source": []
  }
 ],
 "metadata": {
  "kernelspec": {
   "display_name": "Python 3",
   "language": "python",
   "name": "python3"
  },
  "language_info": {
   "codemirror_mode": {
    "name": "ipython",
    "version": 3
   },
   "file_extension": ".py",
   "mimetype": "text/x-python",
   "name": "python",
   "nbconvert_exporter": "python",
   "pygments_lexer": "ipython3",
   "version": "3.10.12"
  }
 },
 "nbformat": 4,
 "nbformat_minor": 2
}
